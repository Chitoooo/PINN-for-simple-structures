{
  "cells": [
    {
      "cell_type": "code",
      "execution_count": 1,
      "metadata": {
        "id": "UEx7ihR8VM5d"
      },
      "outputs": [],
      "source": [
        "import tensorflow as tf\n",
        "import numpy as np\n",
        "import matplotlib.pyplot as plt\n",
        "from tensorflow.keras.optimizers import Adam\n",
        "import math as m"
      ]
    },
    {
      "cell_type": "code",
      "execution_count": 3,
      "metadata": {
        "id": "O9Vl3xSmVN57"
      },
      "outputs": [],
      "source": [
        "\n",
        "pi = tf.constant(m.pi)\n",
        "f0 = 0\n",
        "inf_s = np.sqrt(np.finfo(np.float32).eps)\n",
        "learning_rate = 0.02\n",
        "training_steps = 2000\n",
        "batch_size = 100\n",
        "display_step = 100\n",
        "x_min = 0\n",
        "x_max = 1\n",
        "Num_eval = 20\n",
        "interval = (x_max-x_min)/(Num_eval-1)\n",
        "#(x_max-x_min)/Num_eval\n",
        "# Network Parameters\n",
        "n_input = 1     # input layer number of neurons\n",
        "n_hidden_1 = 128 # 1st layer number of neurons\n",
        "n_hidden_2 = 128 # 2nd layer number of neurons\n",
        "n_output = 1    # output layer number of neurons\n",
        "weights = {\n",
        "'h1': tf.Variable(tf.random.normal([n_input, n_hidden_1])),\n",
        "'h2': tf.Variable(tf.random.normal([n_hidden_1, n_hidden_2])),\n",
        "'out': tf.Variable(tf.random.normal([n_hidden_2, n_output]))\n",
        "}\n",
        "biases = {\n",
        "'b1': tf.Variable(tf.random.normal([n_hidden_1])),\n",
        "'b2': tf.Variable(tf.random.normal([n_hidden_2])),\n",
        "'out': tf.Variable(tf.random.normal([n_output]))\n",
        "}\n",
        "# Stochastic gradient descent optimizer.\n",
        "optimizer = tf.optimizers.Adam(learning_rate)"
      ]
    },
    {
      "cell_type": "code",
      "execution_count": 4,
      "metadata": {
        "id": "nqupDb7vVQCG"
      },
      "outputs": [],
      "source": [
        "# grad\n",
        "def dwdx(w,x):\n",
        "    h = (x[-1] - x[0]) / (int(x.shape[0]) - 1)\n",
        "    #first derivative \n",
        "    dy = (- w[2:] + 4*w[1:-1] - 3*w[:-2])/(h*h)\n",
        "    return dy\n",
        "    \n",
        "def d2wdx(w,x):\n",
        "    h = (x[-1] - x[0]) / (int(x.shape[0]) - 1)\n",
        "    #second derivative \n",
        "    dy2 = (w[2:] - 2*w[1:-1] + w[:-2])/(h*h)\n",
        "\n",
        "    return dy2\n",
        "    \n",
        "def d4wdx(y,x):\n",
        "    #spacing between points.\n",
        "    h = (x[-1] - x[0]) / (int(x.shape[0]) - 1)\n",
        "    \n",
        "    #fourth derivative \n",
        "    dy4 = (y[4:] - 4*y[3:-1] + 6*y[2:-2] - 4*y[1:-3] + y[:-4])/(h*h*h*h)\n",
        "\n",
        "    return dy4"
      ]
    },
    {
      "cell_type": "code",
      "execution_count": 5,
      "metadata": {
        "id": "-3X6TBLJVVmH"
      },
      "outputs": [],
      "source": [
        "# Create model\n",
        "def multilayer_perceptron(x):\n",
        "  x = np.array([[[x]]],  dtype='float32')\n",
        "  layer_1 = tf.add(tf.matmul(x, weights['h1']), biases['b1'])\n",
        "  layer_1 = tf.nn.sigmoid(layer_1)\n",
        "  layer_2 = tf.add(tf.matmul(layer_1, weights['h2']), biases['b2'])\n",
        "  layer_2 = tf.nn.sigmoid(layer_2)\n",
        "  output = tf.matmul(layer_2, weights['out']) + biases['out']\n",
        "  return output\n",
        "\n",
        "# Universal Approximator\n",
        "def g(x):\n",
        "  return tf.math.sin(x*pi) * multilayer_perceptron(x) + f0\n",
        "  #return x*(x-1)* multilayer_perceptron(x) + f0\n",
        "# Given EDO\n",
        "def f(x):\n",
        "  return 100.0\n",
        "# Custom loss function to approximate the derivatives\n",
        "def custom_loss():\n",
        "  summation = []\n",
        "  w = []\n",
        "  for x in np.linspace(0,1,Num_eval):\n",
        "    w.append(g(x))\n",
        "  start = tf.constant(0.0, dtype = tf.float32)\n",
        "  end = tf.constant(1.0, dtype = tf.float32)\n",
        "  x = tf.linspace(start, end, Num_eval)\n",
        "\n",
        "  w = tf.reshape(w,Num_eval)\n",
        "  d4 = d4wdx(w,x)\n",
        "  d2 = d2wdx(w,x)\n",
        "\n",
        "  ind = -1\n",
        "  for x in range(Num_eval-4):\n",
        "    ind += 1\n",
        "    g_val = d4[ind]\n",
        "    summation.append((g_val + f(x))**2)\n",
        "\n",
        "  summation.append((100*(d2[0]-2.46))**2)\n",
        "  summation.append((100*(d2[Num_eval-3]-2.46))**2)\n",
        "  return tf.sqrt(tf.reduce_mean(tf.abs(summation)))"
      ]
    },
    {
      "cell_type": "code",
      "execution_count": null,
      "metadata": {
        "id": "t0VHdHd5dLRI"
      },
      "outputs": [],
      "source": [
        "# Test Code\n",
        "with tf.GradientTape() as tape:\n",
        "    loss = custom_loss()\n",
        "trainable_variables=list(weights.values())+list(biases.values())\n",
        "gradients = tape.gradient(loss, trainable_variables)\n",
        "print(loss)\n",
        "print(gradients)"
      ]
    },
    {
      "cell_type": "code",
      "execution_count": 7,
      "metadata": {
        "id": "ZVn-CmlUVYw2",
        "colab": {
          "base_uri": "https://localhost:8080/"
        },
        "outputId": "0b519874-17ce-4a4e-c56e-1492bbe0ad80"
      },
      "outputs": [
        {
          "output_type": "stream",
          "name": "stdout",
          "text": [
            "loss: 548.983643 \n",
            "loss: 18.124886 \n",
            "loss: 9.654499 \n",
            "loss: 10.268394 \n",
            "loss: 4.251417 \n",
            "loss: 13.129365 \n",
            "loss: 16.376034 \n",
            "loss: 5.349580 \n",
            "loss: 7.773420 \n",
            "loss: 7.288505 \n",
            "loss: 5.338913 \n",
            "loss: 2.957754 \n",
            "loss: 6.557481 \n",
            "loss: 5.960804 \n",
            "loss: 7.892536 \n",
            "loss: 8.424535 \n",
            "loss: 6.826389 \n",
            "loss: 6.447245 \n",
            "loss: 8.022435 \n",
            "loss: 7.015622 \n"
          ]
        }
      ],
      "source": [
        "def train_step():\n",
        "  with tf.GradientTape() as tape:\n",
        "    loss = custom_loss()\n",
        "  trainable_variables=list(weights.values())+list(biases.values())\n",
        "  gradients = tape.gradient(loss, trainable_variables)\n",
        "  optimizer.apply_gradients(zip(gradients, trainable_variables))\n",
        "for i in range(training_steps):\n",
        "  train_step()\n",
        "  if i % display_step == 0:\n",
        "    print(\"loss: %f \" % (custom_loss()))"
      ]
    },
    {
      "cell_type": "code",
      "execution_count": 9,
      "metadata": {
        "colab": {
          "base_uri": "https://localhost:8080/",
          "height": 265
        },
        "id": "Wjbl3T-lVaWd",
        "outputId": "ee6a5957-a4df-482d-a827-07d99fa7d61c"
      },
      "outputs": [
        {
          "output_type": "display_data",
          "data": {
            "text/plain": [
              "<Figure size 432x288 with 1 Axes>"
            ],
            "image/png": "[encoded data removed]"
          },
          "metadata": {
            "needs_background": "light"
          }
        }
      ],
      "source": [
        "# True Solution (found analitically)\n",
        "def true_solution(x):\n",
        "  #return -(50/12)*(x**2)*((1-x)**2)\n",
        "  return -(50/12)*(x-2*x**3+x**4)\n",
        "X = np.linspace(0, 1, 100)\n",
        "result = []\n",
        "for i in X:\n",
        "  result.append(g(i).numpy()[0][0][0])\n",
        "S = true_solution(X)\n",
        "plt.plot(X, result)\n",
        "plt.plot(X, S)\n",
        "plt.show()"
      ]
    },
    {
      "cell_type": "code",
      "execution_count": null,
      "metadata": {
        "id": "SFO-4pfFdF-c"
      },
      "outputs": [],
      "source": []
    },
    {
      "cell_type": "code",
      "execution_count": null,
      "metadata": {
        "id": "Owyw95DxaMPw"
      },
      "outputs": [],
      "source": [
        "def d4wdx(y,x):\n",
        "    #spacing between points.\n",
        "    h = (x[-1] - x[0]) / (int(x.shape[0]) - 1)\n",
        "    \n",
        "    #fourth derivative \n",
        "    dy4 = (y[4:] - 4*y[3:-1] + 6*y[2:-2] - 4*y[1:-3] + y[:-4])/(h*h*h*h)\n",
        "\n",
        "    return dy4"
      ]
    },
    {
      "cell_type": "code",
      "execution_count": null,
      "metadata": {
        "id": "DPusnQMsd25Y"
      },
      "outputs": [],
      "source": [
        "def d2wdx(w,x):\n",
        "    h = (x[-1] - x[0]) / (int(x.shape[0]) - 1)\n",
        "    #second derivative \n",
        "    dy2 = (w[2:] - 2*w[1:-1] + w[:-2])/(h*h)\n",
        "\n",
        "    return dy2\n",
        "    "
      ]
    },
    {
      "cell_type": "code",
      "source": [
        "def dwdx(w,x):\n",
        "    h = (x[-1] - x[0]) / (int(x.shape[0]) - 1)\n",
        "    #first derivative \n",
        "    dy = (- w[2:] + 4*w[1:-1] - 3*w[:-2])/(h*h)\n",
        "    return dy"
      ],
      "metadata": {
        "id": "xV27JfOU2SS_"
      },
      "execution_count": null,
      "outputs": []
    },
    {
      "cell_type": "code",
      "execution_count": null,
      "metadata": {
        "colab": {
          "base_uri": "https://localhost:8080/"
        },
        "id": "lh0G_DZfV_D5",
        "outputId": "673781ce-25bb-4136-f01e-074013f73c9e"
      },
      "outputs": [
        {
          "output_type": "stream",
          "name": "stdout",
          "text": [
            "tf.Tensor(\n",
            "[-102.58072  -104.18476  -104.82948  -106.371376 -105.788795 -109.680435\n",
            " -106.480125 -108.841515 -107.17922  -109.43186  -106.65102  -106.88405\n",
            " -106.04513  -105.01979  -102.89143  -102.79822 ], shape=(16,), dtype=float32)\n",
            "tf.Tensor(\n",
            "[ 2.5900238  4.938613   7.0030446  8.778876  10.264278  11.455023\n",
            " 12.352767  12.946687  13.245519  13.24285   12.943373  12.340674\n",
            " 11.442586  10.248464   8.760501   6.981581   4.9176226  2.5689044], shape=(18,), dtype=float32)\n",
            "tf.Tensor(\n",
            "[ -99.9863   -100.0096    -99.97853  -100.032906  -99.94746  -100.04844\n",
            "  -99.9863    -99.970764  -99.9863    -99.970764 -100.032906  -99.95522\n",
            " -100.032906  -99.9863   -100.01737   -99.97853 ], shape=(16,), dtype=float32)\n",
            "tf.Tensor(\n",
            "[ 2.4699895  4.6860538  6.625126   8.287164   9.672209  10.780198\n",
            " 11.611324  12.165265  12.442279  12.442279  12.165265  11.611324\n",
            " 10.780198   9.672188   8.287164   6.625126   4.6860538  2.4699895], shape=(18,), dtype=float32)\n"
          ]
        }
      ],
      "source": [
        "summation = []\n",
        "\n",
        "w = []\n",
        "w_true = []\n",
        "for x in np.linspace(0,1,Num_eval):\n",
        "  w.append(g(x))\n",
        "  w_true.append(true_solution(x))\n",
        "\n",
        "\n",
        "\n",
        "start = tf.constant(0.0, dtype = tf.float32)\n",
        "end = tf.constant(1.0, dtype = tf.float32)\n",
        "x = tf.linspace(start, end, Num_eval)\n",
        "\n",
        "w = tf.reshape(w,Num_eval)\n",
        "\n",
        "w_true = tf.convert_to_tensor(w_true)\n",
        "w_true = tf.cast(w_true, tf.float32)\n",
        "\n",
        "temp = d4wdx(w,x)\n",
        "temp2 = d2wdx(w,x)\n",
        "temp3 = d4wdx(w_true,x)\n",
        "temp4 = d2wdx(w_true,x)\n",
        "\n",
        "print(temp)\n",
        "print(temp2)\n",
        "print(temp3)\n",
        "print(temp4)"
      ]
    }
  ],
  "metadata": {
    "colab": {
      "provenance": []
    },
    "kernelspec": {
      "display_name": "Python 3",
      "name": "python3"
    },
    "language_info": {
      "name": "python"
    }
  },
  "nbformat": 4,
  "nbformat_minor": 0
}