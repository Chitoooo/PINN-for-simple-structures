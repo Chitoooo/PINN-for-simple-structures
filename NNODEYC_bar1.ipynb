{
  "cells": [
    {
      "cell_type": "code",
      "execution_count": null,
      "metadata": {
        "id": "4C4ahLGERHzp"
      },
      "outputs": [],
      "source": [
        "import tensorflow as tf\n",
        "import numpy as np\n",
        "import matplotlib.pyplot as plt\n",
        "from tensorflow.keras.optimizers import Adam\n",
        "import math as m"
      ]
    },
    {
      "cell_type": "code",
      "execution_count": null,
      "metadata": {
        "id": "JbFiJYZ8bDB7"
      },
      "outputs": [],
      "source": [
        "# Here assume AE = 1\n",
        "pi = tf.constant(m.pi)\n",
        "f0 = 0\n",
        "inf_s = np.sqrt(np.finfo(np.float32).eps)\n",
        "learning_rate = 0.02\n",
        "training_steps = 20000\n",
        "batch_size = 100\n",
        "display_step = 500\n",
        "x_min = 0\n",
        "x_max = 1\n",
        "Num_eval = 20\n",
        "interval = (x_max-x_min)/(Num_eval-1)\n",
        "#(x_max-x_min)/Num_eval\n",
        "# Network Parameters\n",
        "n_input = 1     # input layer number of neurons\n",
        "n_hidden_1 = 128 # 1st layer number of neurons\n",
        "#n_hidden_2 = 128 # 2nd layer number of neurons\n",
        "n_output = 1    # output layer number of neurons\n",
        "weights = {\n",
        "'h1': tf.Variable(tf.random.normal([n_input, n_hidden_1])),\n",
        "#'h2': tf.Variable(tf.random.normal([n_hidden_1, n_hidden_2])),\n",
        "'out': tf.Variable(tf.random.normal([n_hidden_1, n_output]))\n",
        "}\n",
        "biases = {\n",
        "'b1': tf.Variable(tf.random.normal([n_hidden_1])),\n",
        "#'b2': tf.Variable(tf.random.normal([n_hidden_2])),\n",
        "'out': tf.Variable(tf.random.normal([n_output]))\n",
        "}\n",
        "# Stochastic gradient descent optimizer.\n",
        "optimizer = tf.optimizers.Adam(learning_rate)"
      ]
    },
    {
      "cell_type": "code",
      "execution_count": null,
      "metadata": {
        "id": "zEFHsFiAbDYO"
      },
      "outputs": [],
      "source": [
        "# Derivate based on finite difference in tensorflow\n",
        "def grad(dx,w):\n",
        "  dx1 = dx[0:Num_eval]\n",
        "  dx1 = tf.reshape(dx1,Num_eval)\n",
        "  dx2 = dx[2:Num_eval+2]\n",
        "  dx2 = tf.reshape(dx2,Num_eval)\n",
        "  dx_diff = dx1 + dx2\n",
        "  w1 = tf.concat([w[0:1],w], 0)\n",
        "  w1 = tf.reshape(w1,Num_eval+1)\n",
        "  w2 = tf.concat([w,w[Num_eval-1:Num_eval]],0)\n",
        "  w2 = tf.reshape(w2,Num_eval+1)\n",
        "  dw = w2[1:] - w1[:-1]\n",
        "  dwdx = dw/dx_diff\n",
        "  return dwdx"
      ]
    },
    {
      "cell_type": "code",
      "execution_count": null,
      "metadata": {
        "id": "8REq2heobDpH"
      },
      "outputs": [],
      "source": [
        "# Create model\n",
        "def multilayer_perceptron(x):\n",
        "  x = np.array([[[x]]],  dtype='float32')\n",
        "  layer_1 = tf.add(tf.matmul(x, weights['h1']), biases['b1'])\n",
        "  layer_1 = tf.nn.sigmoid(layer_1)\n",
        "  #layer_2 = tf.add(tf.matmul(layer_1, weights['h2']), biases['b2'])\n",
        "  #layer_2 = tf.nn.sigmoid(layer_2)\n",
        "  output = tf.matmul(layer_1, weights['out']) + biases['out']\n",
        "  return output\n",
        "\n",
        "# Universal Approximator\n",
        "def g(x):\n",
        "  return x*2.718281828**(-x)*multilayer_perceptron(x) + f0\n",
        "# Given EDO\n",
        "def f(x):\n",
        "  #return 1\n",
        "  return x\n",
        "# Custom loss function to approximate the derivatives\n",
        "def custom_loss():\n",
        "  summation = []\n",
        "  dx = []\n",
        "  dx.append(0)\n",
        "  w = []\n",
        "  for x in np.linspace(0,1,Num_eval):\n",
        "    w.append(g(x))\n",
        "    dx.append(interval)\n",
        "  dx.append(0)\n",
        "  dw1 = grad(dx,w)\n",
        "  dw2 = grad(dx,dw1)\n",
        "  #dw3 = grad(dx,dw2)\n",
        "  #dw4 = grad(dx,dw3)\n",
        "\n",
        "  ind = -1\n",
        "  for x in np.linspace(0,1,Num_eval):\n",
        "    ind += 1\n",
        "    d2NN2 = dw2[ind]\n",
        "    #d4NN2 = w_grad4[ind]\n",
        "    summation.append((d2NN2 + f(x))**2)\n",
        "  #summation.append((100*dw1[0])**2)\n",
        "  summation.append((100*(dw1[Num_eval-1]))**2)\n",
        "  return tf.sqrt(tf.reduce_mean(tf.abs(summation)))"
      ]
    },
    {
      "cell_type": "code",
      "execution_count": null,
      "metadata": {
        "id": "2tE8RiGybD3-"
      },
      "outputs": [],
      "source": [
        "def train_step():\n",
        "  with tf.GradientTape() as tape:\n",
        "    loss = custom_loss()\n",
        "  trainable_variables=list(weights.values())+list(biases.values())\n",
        "  gradients = tape.gradient(loss, trainable_variables)\n",
        "  optimizer.apply_gradients(zip(gradients, trainable_variables))\n"
      ]
    },
    {
      "cell_type": "code",
      "execution_count": null,
      "metadata": {
        "id": "quqpN5DPbKoJ"
      },
      "outputs": [],
      "source": [
        "# Test Code\n",
        "with tf.GradientTape() as tape:\n",
        "    loss = custom_loss()\n",
        "trainable_variables=list(weights.values())+list(biases.values())\n",
        "gradients = tape.gradient(loss, trainable_variables)\n",
        "print(loss)\n",
        "print(gradients)"
      ]
    },
    {
      "cell_type": "code",
      "execution_count": null,
      "metadata": {
        "colab": {
          "background_save": true,
          "base_uri": "https://localhost:8080/"
        },
        "id": "cPX2ND6YbMSI",
        "outputId": "aa066a6a-85f8-4648-eed9-ba05e1cf2f73"
      },
      "outputs": [
        {
          "name": "stdout",
          "output_type": "stream",
          "text": [
            "loss: 11.693498 \n",
            "loss: 0.214475 \n",
            "loss: 0.202146 \n",
            "loss: 0.194579 \n",
            "loss: 0.188000 \n",
            "loss: 0.183044 \n",
            "loss: 0.178635 \n",
            "loss: 0.176425 \n",
            "loss: 0.172768 \n",
            "loss: 0.170538 \n",
            "loss: 0.169408 \n",
            "loss: 0.166719 \n",
            "loss: 0.165125 \n",
            "loss: 0.163051 \n",
            "loss: 0.162255 \n",
            "loss: 0.161665 \n",
            "loss: 0.159506 \n",
            "loss: 0.157486 \n",
            "loss: 0.156643 \n",
            "loss: 0.155879 \n",
            "loss: 0.154771 \n",
            "loss: 0.153587 \n",
            "loss: 0.153241 \n",
            "loss: 0.150833 \n",
            "loss: 0.150081 \n",
            "loss: 0.147375 \n",
            "loss: 0.148013 \n",
            "loss: 0.145988 \n",
            "loss: 0.145777 \n",
            "loss: 0.144325 \n",
            "loss: 0.142881 \n",
            "loss: 0.142181 \n",
            "loss: 0.139601 \n",
            "loss: 0.140732 \n",
            "loss: 0.138795 \n",
            "loss: 0.138105 \n",
            "loss: 0.137369 \n",
            "loss: 0.136623 \n",
            "loss: 0.135444 \n",
            "loss: 0.135210 \n"
          ]
        }
      ],
      "source": [
        "for i in range(training_steps):\n",
        "  train_step()\n",
        "  if i % display_step == 0:\n",
        "    print(\"loss: %f \" % (custom_loss()))"
      ]
    },
    {
      "cell_type": "code",
      "execution_count": null,
      "metadata": {
        "colab": {
          "base_uri": "https://localhost:8080/",
          "height": 268
        },
        "id": "s9lekrXsbN1J",
        "outputId": "b6c34990-cbe6-4d0a-904a-5085910a800b"
      },
      "outputs": [
        {
          "data": {
            "image/png": "[encoded data removed]",
            "text/plain": [
              "<Figure size 432x288 with 1 Axes>"
            ]
          },
          "metadata": {},
          "output_type": "display_data"
        }
      ],
      "source": [
        "# True Solution (found analitically) for function f=x, with the assumption of C = 1, P = 1, and L = 1\n",
        "def true_solution(x):\n",
        "  #return -x**3/6+3*x/2\n",
        "  return 1*(-x**3/6+x/2)\n",
        "  #return -(x**2)/2+x\n",
        "X = np.linspace(0, 1, 100)\n",
        "result = []\n",
        "for i in X:\n",
        "  result.append(g(i).numpy()[0][0][0])\n",
        "S = true_solution(X)\n",
        "plt.plot(X, result)\n",
        "plt.plot(X, S)\n",
        "plt.show()"
      ]
    },
    {
      "cell_type": "code",
      "execution_count": null,
      "metadata": {
        "colab": {
          "base_uri": "https://localhost:8080/"
        },
        "id": "MNKgXNcTGEVD",
        "outputId": "e0e2ddfc-d4a4-4672-94cf-01fc2e2fc31b"
      },
      "outputs": [
        {
          "name": "stdout",
          "output_type": "stream",
          "text": [
            "NN= [0.0, 0.0050185, 0.010054798, 0.015105064, 0.02016567, 0.025233302, 0.030304752, 0.03537709, 0.04044745, 0.04551339, 0.050572347, 0.055622205, 0.06066087, 0.065686345, 0.07069688, 0.07569095, 0.080666795, 0.08562318, 0.09055864, 0.09547237, 0.100362994, 0.105229296, 0.11007058, 0.114885986, 0.11967449, 0.12443583, 0.1291688, 0.1338727, 0.13854736, 0.1431915, 0.14780532, 0.15238759, 0.15693803, 0.16145606, 0.1659408, 0.17039202, 0.17480908, 0.1791914, 0.18353803, 0.18784887, 0.19212247, 0.19635864, 0.20055667, 0.20471564, 0.20883496, 0.21291298, 0.21694973, 0.22094378, 0.2248942, 0.22879995, 0.23265988, 0.23647344, 0.24023814, 0.24395455, 0.24761993, 0.25123355, 0.25479424, 0.25830007, 0.26175016, 0.26514268, 0.2684761, 0.27174917, 0.27496, 0.27810758, 0.28118956, 0.28420445, 0.28715074, 0.29002696, 0.2928309, 0.295561, 0.29821596, 0.30079338, 0.3032923, 0.30571043, 0.30804583, 0.31029767, 0.31246334, 0.3145417, 0.316531, 0.31842917, 0.32023534, 0.32194754, 0.3235643, 0.32508406, 0.32650548, 0.3278273, 0.3290476, 0.3301661, 0.3311802, 0.3320899, 0.33289367, 0.33359024, 0.3341786, 0.33465856, 0.3350287, 0.3352882, 0.3354364, 0.33547327, 0.33539733, 0.33520854]\n",
            "Exact= [0.         0.00505033 0.01009964 0.01514688 0.02019103 0.02523105\n",
            " 0.03026593 0.03529462 0.0403161  0.04532933 0.05033328 0.05532693\n",
            " 0.06030924 0.06527919 0.07023574 0.07517786 0.08010452 0.08501469\n",
            " 0.08990734 0.09478144 0.09963595 0.10446986 0.10928212 0.11407171\n",
            " 0.1188376  0.12357875 0.12829413 0.13298272 0.13764348 0.14227539\n",
            " 0.14687741 0.15144851 0.15598766 0.16049383 0.16496599 0.16940311\n",
            " 0.17380416 0.1781681  0.18249392 0.18678057 0.19102703 0.19523226\n",
            " 0.19939524 0.20351493 0.20759031 0.21162034 0.21560399 0.21954023\n",
            " 0.22342804 0.22726637 0.23105421 0.23479051 0.23847426 0.24210441\n",
            " 0.24567994 0.24919982 0.25266301 0.25606849 0.25941522 0.26270218\n",
            " 0.26592834 0.26909265 0.2721941  0.27523166 0.27820428 0.28111094\n",
            " 0.28395062 0.28672227 0.28942487 0.2920574  0.29461881 0.29710807\n",
            " 0.29952417 0.30186606 0.30413271 0.3063231  0.3084362  0.31047096\n",
            " 0.31242638 0.3143014  0.316095   0.31780616 0.31943384 0.320977\n",
            " 0.32243463 0.32380569 0.32508914 0.32628396 0.32738912 0.32840358\n",
            " 0.32932632 0.33015631 0.3308925  0.33153389 0.33207942 0.33252808\n",
            " 0.33287883 0.33313065 0.33328249 0.33333333]\n"
          ]
        }
      ],
      "source": [
        "print(\"NN=\",result)\n",
        "print(\"Exact=\",S)"
      ]
    },
    {
      "cell_type": "code",
      "execution_count": null,
      "metadata": {
        "id": "IhO_mnHmgxJe"
      },
      "outputs": [],
      "source": [
        "summation = []\n",
        "dx = []\n",
        "dx.append(0)\n",
        "w = []\n",
        "for x in np.linspace(0,1,20):\n",
        "  w.append(g(x))\n",
        "  dx.append(0.05)\n",
        "dx.append(0)\n",
        "dw1 = grad(dx,w)\n",
        "dw2 = grad(dx,dw1)\n",
        "print(dw1)\n",
        "print(dw2)\n",
        "print(np.linspace(0,1,20))"
      ]
    },
    {
      "cell_type": "code",
      "execution_count": null,
      "metadata": {
        "colab": {
          "base_uri": "https://localhost:8080/"
        },
        "id": "q0BIzVtF78m1",
        "outputId": "4048404d-a45b-4666-f93c-e4a5dbbf79cb"
      },
      "outputs": [
        {
          "data": {
            "text/plain": [
              "0.5569379"
            ]
          },
          "execution_count": 10,
          "metadata": {},
          "output_type": "execute_result"
        }
      ],
      "source": [
        "x = tf.Variable(0.8)\n",
        "\n",
        "with tf.GradientTape() as tape:\n",
        "  y = g(x)\n",
        "\n",
        "dy_dx = tape.gradient(y, x)\n",
        "dy_dx.numpy()"
      ]
    },
    {
      "cell_type": "code",
      "execution_count": null,
      "metadata": {
        "colab": {
          "base_uri": "https://localhost:8080/"
        },
        "id": "TiQxC-IT-Bhe",
        "outputId": "d129a05f-a836-4e98-8f10-ca0645b3de87"
      },
      "outputs": [
        {
          "name": "stdout",
          "output_type": "stream",
          "text": [
            "tf.Tensor(0.5569379, shape=(), dtype=float32)\n",
            "None\n"
          ]
        }
      ],
      "source": [
        "with tf.GradientTape() as t2:\n",
        "  with tf.GradientTape() as t1:\n",
        "    #y = tf.tanh(x)\n",
        "    y = g(x)\n",
        "         \n",
        "  der1 = t1.gradient(y, x)\n",
        "der2 = t2.gradient(der1, x)\n",
        "\n",
        "print(der1)\n",
        "print(der2)"
      ]
    }
  ],
  "metadata": {
    "colab": {
      "provenance": []
    },
    "kernelspec": {
      "display_name": "Python 3",
      "name": "python3"
    },
    "language_info": {
      "name": "python"
    }
  },
  "nbformat": 4,
  "nbformat_minor": 0
}